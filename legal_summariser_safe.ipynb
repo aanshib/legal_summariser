{
 "cells": [
  {
   "cell_type": "code",
   "execution_count": 2,
   "metadata": {
    "colab": {
     "base_uri": "https://localhost:8080/",
     "height": 89
    },
    "id": "JI1qiM9Vv4iB",
    "outputId": "f7a41c5b-40ae-4a46-aa5d-33572a3d8926"
   },
   "outputs": [
    {
     "name": "stdout",
     "output_type": "stream",
     "text": [
      "Please upload your kaggle.json file (from Kaggle Account -> API).\n"
     ]
    },
    {
     "data": {
      "text/html": [
       "\n",
       "     <input type=\"file\" id=\"files-e56ec482-1e94-4d0b-8bf9-e76ee5be4e7d\" name=\"files[]\" multiple disabled\n",
       "        style=\"border:none\" />\n",
       "     <output id=\"result-e56ec482-1e94-4d0b-8bf9-e76ee5be4e7d\">\n",
       "      Upload widget is only available when the cell has been executed in the\n",
       "      current browser session. Please rerun this cell to enable.\n",
       "      </output>\n",
       "      <script>// Copyright 2017 Google LLC\n",
       "//\n",
       "// Licensed under the Apache License, Version 2.0 (the \"License\");\n",
       "// you may not use this file except in compliance with the License.\n",
       "// You may obtain a copy of the License at\n",
       "//\n",
       "//      http://www.apache.org/licenses/LICENSE-2.0\n",
       "//\n",
       "// Unless required by applicable law or agreed to in writing, software\n",
       "// distributed under the License is distributed on an \"AS IS\" BASIS,\n",
       "// WITHOUT WARRANTIES OR CONDITIONS OF ANY KIND, either express or implied.\n",
       "// See the License for the specific language governing permissions and\n",
       "// limitations under the License.\n",
       "\n",
       "/**\n",
       " * @fileoverview Helpers for google.colab Python module.\n",
       " */\n",
       "(function(scope) {\n",
       "function span(text, styleAttributes = {}) {\n",
       "  const element = document.createElement('span');\n",
       "  element.textContent = text;\n",
       "  for (const key of Object.keys(styleAttributes)) {\n",
       "    element.style[key] = styleAttributes[key];\n",
       "  }\n",
       "  return element;\n",
       "}\n",
       "\n",
       "// Max number of bytes which will be uploaded at a time.\n",
       "const MAX_PAYLOAD_SIZE = 100 * 1024;\n",
       "\n",
       "function _uploadFiles(inputId, outputId) {\n",
       "  const steps = uploadFilesStep(inputId, outputId);\n",
       "  const outputElement = document.getElementById(outputId);\n",
       "  // Cache steps on the outputElement to make it available for the next call\n",
       "  // to uploadFilesContinue from Python.\n",
       "  outputElement.steps = steps;\n",
       "\n",
       "  return _uploadFilesContinue(outputId);\n",
       "}\n",
       "\n",
       "// This is roughly an async generator (not supported in the browser yet),\n",
       "// where there are multiple asynchronous steps and the Python side is going\n",
       "// to poll for completion of each step.\n",
       "// This uses a Promise to block the python side on completion of each step,\n",
       "// then passes the result of the previous step as the input to the next step.\n",
       "function _uploadFilesContinue(outputId) {\n",
       "  const outputElement = document.getElementById(outputId);\n",
       "  const steps = outputElement.steps;\n",
       "\n",
       "  const next = steps.next(outputElement.lastPromiseValue);\n",
       "  return Promise.resolve(next.value.promise).then((value) => {\n",
       "    // Cache the last promise value to make it available to the next\n",
       "    // step of the generator.\n",
       "    outputElement.lastPromiseValue = value;\n",
       "    return next.value.response;\n",
       "  });\n",
       "}\n",
       "\n",
       "/**\n",
       " * Generator function which is called between each async step of the upload\n",
       " * process.\n",
       " * @param {string} inputId Element ID of the input file picker element.\n",
       " * @param {string} outputId Element ID of the output display.\n",
       " * @return {!Iterable<!Object>} Iterable of next steps.\n",
       " */\n",
       "function* uploadFilesStep(inputId, outputId) {\n",
       "  const inputElement = document.getElementById(inputId);\n",
       "  inputElement.disabled = false;\n",
       "\n",
       "  const outputElement = document.getElementById(outputId);\n",
       "  outputElement.innerHTML = '';\n",
       "\n",
       "  const pickedPromise = new Promise((resolve) => {\n",
       "    inputElement.addEventListener('change', (e) => {\n",
       "      resolve(e.target.files);\n",
       "    });\n",
       "  });\n",
       "\n",
       "  const cancel = document.createElement('button');\n",
       "  inputElement.parentElement.appendChild(cancel);\n",
       "  cancel.textContent = 'Cancel upload';\n",
       "  const cancelPromise = new Promise((resolve) => {\n",
       "    cancel.onclick = () => {\n",
       "      resolve(null);\n",
       "    };\n",
       "  });\n",
       "\n",
       "  // Wait for the user to pick the files.\n",
       "  const files = yield {\n",
       "    promise: Promise.race([pickedPromise, cancelPromise]),\n",
       "    response: {\n",
       "      action: 'starting',\n",
       "    }\n",
       "  };\n",
       "\n",
       "  cancel.remove();\n",
       "\n",
       "  // Disable the input element since further picks are not allowed.\n",
       "  inputElement.disabled = true;\n",
       "\n",
       "  if (!files) {\n",
       "    return {\n",
       "      response: {\n",
       "        action: 'complete',\n",
       "      }\n",
       "    };\n",
       "  }\n",
       "\n",
       "  for (const file of files) {\n",
       "    const li = document.createElement('li');\n",
       "    li.append(span(file.name, {fontWeight: 'bold'}));\n",
       "    li.append(span(\n",
       "        `(${file.type || 'n/a'}) - ${file.size} bytes, ` +\n",
       "        `last modified: ${\n",
       "            file.lastModifiedDate ? file.lastModifiedDate.toLocaleDateString() :\n",
       "                                    'n/a'} - `));\n",
       "    const percent = span('0% done');\n",
       "    li.appendChild(percent);\n",
       "\n",
       "    outputElement.appendChild(li);\n",
       "\n",
       "    const fileDataPromise = new Promise((resolve) => {\n",
       "      const reader = new FileReader();\n",
       "      reader.onload = (e) => {\n",
       "        resolve(e.target.result);\n",
       "      };\n",
       "      reader.readAsArrayBuffer(file);\n",
       "    });\n",
       "    // Wait for the data to be ready.\n",
       "    let fileData = yield {\n",
       "      promise: fileDataPromise,\n",
       "      response: {\n",
       "        action: 'continue',\n",
       "      }\n",
       "    };\n",
       "\n",
       "    // Use a chunked sending to avoid message size limits. See b/62115660.\n",
       "    let position = 0;\n",
       "    do {\n",
       "      const length = Math.min(fileData.byteLength - position, MAX_PAYLOAD_SIZE);\n",
       "      const chunk = new Uint8Array(fileData, position, length);\n",
       "      position += length;\n",
       "\n",
       "      const base64 = btoa(String.fromCharCode.apply(null, chunk));\n",
       "      yield {\n",
       "        response: {\n",
       "          action: 'append',\n",
       "          file: file.name,\n",
       "          data: base64,\n",
       "        },\n",
       "      };\n",
       "\n",
       "      let percentDone = fileData.byteLength === 0 ?\n",
       "          100 :\n",
       "          Math.round((position / fileData.byteLength) * 100);\n",
       "      percent.textContent = `${percentDone}% done`;\n",
       "\n",
       "    } while (position < fileData.byteLength);\n",
       "  }\n",
       "\n",
       "  // All done.\n",
       "  yield {\n",
       "    response: {\n",
       "      action: 'complete',\n",
       "    }\n",
       "  };\n",
       "}\n",
       "\n",
       "scope.google = scope.google || {};\n",
       "scope.google.colab = scope.google.colab || {};\n",
       "scope.google.colab._files = {\n",
       "  _uploadFiles,\n",
       "  _uploadFilesContinue,\n",
       "};\n",
       "})(self);\n",
       "</script> "
      ],
      "text/plain": [
       "<IPython.core.display.HTML object>"
      ]
     },
     "metadata": {},
     "output_type": "display_data"
    },
    {
     "name": "stdout",
     "output_type": "stream",
     "text": [
      "Saving kaggle.json to kaggle.json\n"
     ]
    }
   ],
   "source": [
    "# STEP 0 — install libs (run once)\n",
    "!pip -q install kaggle transformers datasets accelerate peft sentencepiece bitsandbytes rouge-score bert-score sacrebleu sentence-transformers\n",
    "\n",
    "# Upload kaggle.json via file dialog (Colab)\n",
    "from google.colab import files\n",
    "print(\"Please upload your kaggle.json file (from Kaggle Account -> API).\")\n",
    "uploaded = files.upload()  # choose kaggle.json"
   ]
  },
  {
   "cell_type": "code",
   "execution_count": 3,
   "metadata": {
    "colab": {
     "base_uri": "https://localhost:8080/"
    },
    "id": "TI-V8PpIv6EZ",
    "outputId": "9eb05302-423e-4f11-e01f-ce21bd46fedc"
   },
   "outputs": [
    {
     "name": "stdout",
     "output_type": "stream",
     "text": [
      "kaggle.json installed.\n"
     ]
    }
   ],
   "source": [
    "# STEP 0.1 — place kaggle.json\n",
    "import os, shutil, stat\n",
    "os.makedirs(\"/root/.kaggle\", exist_ok=True)\n",
    "shutil.move(\"kaggle.json\", \"/root/.kaggle/kaggle.json\")\n",
    "os.chmod(\"/root/.kaggle/kaggle.json\", stat.S_IRUSR | stat.S_IWUSR)\n",
    "print(\"kaggle.json installed.\")"
   ]
  },
  {
   "cell_type": "code",
   "execution_count": 10,
   "metadata": {
    "colab": {
     "base_uri": "https://localhost:8080/"
    },
    "id": "blSuIwwuv93l",
    "outputId": "4b917fcf-a414-4aa9-ad85-862ac189775e"
   },
   "outputs": [
    {
     "name": "stdout",
     "output_type": "stream",
     "text": [
      "Set ILDC_SUM_SLUG = rishipjain/indian-court-judgment-summary-pair\n",
      "Set CIVIL_SUM_SLUG = veerchheda/civilsum-indian-legal-document-summarisation\n"
     ]
    }
   ],
   "source": [
    "# STEP 1.1 — REPLACE these with the exact Kaggle slugs you will use\n",
    "ILDC_SUM_SLUG = \"rishipjain/indian-court-judgment-summary-pair\"\n",
    "CIVIL_SUM_SLUG = \"veerchheda/civilsum-indian-legal-document-summarisation\"\n",
    "\n",
    "DATA_DIR = \"/content/data\"\n",
    "import os\n",
    "os.makedirs(DATA_DIR, exist_ok=True)\n",
    "\n",
    "print(\"Set ILDC_SUM_SLUG =\", ILDC_SUM_SLUG)\n",
    "print(\"Set CIVIL_SUM_SLUG =\", CIVIL_SUM_SLUG)"
   ]
  },
  {
   "cell_type": "code",
   "execution_count": 12,
   "metadata": {
    "colab": {
     "base_uri": "https://localhost:8080/"
    },
    "id": "niRfG1RXv-Zh",
    "outputId": "16036354-8d08-455b-d29e-04b6a7f19c96"
   },
   "outputs": [
    {
     "name": "stdout",
     "output_type": "stream",
     "text": [
      "Downloading ICJ dataset...\n",
      "Dataset URL: https://www.kaggle.com/datasets/rishipjain/indian-court-judgment-summary-pair\n",
      "License(s): MIT\n",
      "indian-court-judgment-summary-pair.zip: Skipping, found more recently modified local copy (use --force to force download)\n",
      "\n",
      "Downloading CivilSum dataset...\n",
      "Dataset URL: https://www.kaggle.com/datasets/veerchheda/civilsum-indian-legal-document-summarisation\n",
      "License(s): CC-BY-NC-SA-4.0\n",
      "civilsum-indian-legal-document-summarisation.zip: Skipping, found more recently modified local copy (use --force to force download)\n",
      "\n",
      "Unzipping datasets...\n",
      "Archive:  /content/data/indian-court-judgment-summary-pair.zip\n",
      "  inflating: /content/data/icj_sum/pair_dataset.csv  \n",
      "Archive:  /content/data/civilsum-indian-legal-document-summarisation.zip\n",
      "  inflating: /content/data/civil_sum/test.csv  \n",
      "  inflating: /content/data/civil_sum/train.csv  \n",
      "  inflating: /content/data/civil_sum/valid.csv  \n"
     ]
    }
   ],
   "source": [
    "# STEP 2 — Download datasets\n",
    "!pip install -q kaggle\n",
    "\n",
    "# Indian Court Judgment Summary dataset\n",
    "ICJ_SUM_SLUG = \"rishipjain/indian-court-judgment-summary-pair\"\n",
    "\n",
    "# CivilSum dataset\n",
    "CIVIL_SUM_SLUG = \"veerchheda/civilsum-indian-legal-document-summarisation\"\n",
    "\n",
    "DATA_DIR = \"/content/data\"\n",
    "import os\n",
    "os.makedirs(DATA_DIR, exist_ok=True)\n",
    "\n",
    "# Download datasets\n",
    "print(\"Downloading ICJ dataset...\")\n",
    "!kaggle datasets download -d {ICJ_SUM_SLUG} -p {DATA_DIR}\n",
    "\n",
    "print(\"\\nDownloading CivilSum dataset...\")\n",
    "!kaggle datasets download -d {CIVIL_SUM_SLUG} -p {DATA_DIR}\n",
    "\n",
    "# Unzip all downloaded files to their specific directories\n",
    "print(\"\\nUnzipping datasets...\")\n",
    "!unzip -o \"/content/data/indian-court-judgment-summary-pair.zip\" -d \"/content/data/icj_sum\"\n",
    "!unzip -o \"/content/data/civilsum-indian-legal-document-summarisation.zip\" -d \"/content/data/civil_sum\""
   ]
  },
  {
   "cell_type": "code",
   "execution_count": 15,
   "metadata": {
    "colab": {
     "base_uri": "https://localhost:8080/",
     "height": 1000,
     "referenced_widgets": [
      "fbc0ec7df02c43289a034886ab488ec8",
      "200b13de32d7476eb29641d364175d7f",
      "efab7b02874e44068c391a2c3785ef21",
      "af06df5ebb464e08832a565f3cd3e863",
      "baf52ea352504127af97e1d2df38c509",
      "f4e0e507e60544f390d67803684bfb2d",
      "2b7db90451b74ca4ae39b86a541ac93e",
      "8c59326c5632469faf893a486ca5f982",
      "c5ab390588124e62baccb84a875065c7",
      "8db1452040104d7ab970e0a7b6aa05ca",
      "6b926ba8d2c54ea2a23e452ac00818a6",
      "6058ca5344234ead951cca3c5e3c7e27",
      "cb042d1ae8b5411ebc8f0aa943ceffb9",
      "03b4c0a1f3aa4658ab8593d212fcd665",
      "3b9999face574d918d47a63626749f5a",
      "c5dce8def76f406298604df7509e1fb3",
      "c88e7a5bab654203b1630abbc2b2e6da",
      "f0b7894775534d90ac721010fa11e83f",
      "bc53fa47a5554afe8b7f2d9ad412dd4d",
      "03a44951e19045ba91e4986f4ae53848",
      "0af82bac5d32410ca7bc8f98681a90df",
      "a02144e4908241ae8336bcf2809bc1b4",
      "eab225ca4c684a65b980abde2436dfd4",
      "d8bd337e1ce8444d8200929798d66d27",
      "9221d7a55bd347158feadcbded8de176",
      "a03ae88f8af7448fac0aaaadf7304987",
      "d657530ac84941828fb5f0b5df1781a6",
      "65ca7a095daa4b02af747244684e4dfe",
      "3f38227562924e84b5334f24051f0269",
      "a27454969710484c9e7041b000d4482e",
      "43c7e6711f8b4c208a7baa97de5343e2",
      "0dbba09558d34c228c3c36742b5f0554",
      "2cfd432b85e249148430b5cd4e2068df",
      "020908250b6a460a9f62393a50301aaf",
      "245e2b3e884e4e909036a27f2af5194c",
      "59fd47c8e167409ab55af0ec854e60d8",
      "f3fac8d62afd4dea9085fc0efc647134",
      "d2497631a7d146a6a11f9ce7527fc31b",
      "f6a60682521e48519528ce005afec0d0",
      "9066c9c9bfb341a894a078aec81558fd",
      "6916e38f49a54f3f84b930b28fff0788",
      "fd211b9414584fdf9c4eed56a46ecb7d",
      "bb6e3c48ce534ab2b552a14290183707",
      "a26d96f1c54a4244a272e1e061bc0a18",
      "261c1186e54144b7944b54387fa42f04",
      "9200ae5a2d12404998b8c86ae020f60d",
      "77734c3cea074742ac1ac5c2c5e171e8",
      "437d459df5d4436a82b05a8e198c2d17",
      "d34cff7378e148618e49de1ab598ffa9",
      "41e7623b49d34bc5aa8f3b3880566d55",
      "4f90db63a83e4414985263508fee2dd2",
      "68dc9cda85144485bec3e1503f9a86e1",
      "52dde753fa954c279aa3f9bc8eec63c3",
      "f91dca5864e24249a3b35140d1f312e5",
      "2ee06676183c4050abf576ec51dd5633",
      "f0b5be3cdcd54a848b624ff2c8cc487a",
      "8d99e435643e4918ba247a4ef6119ee9",
      "0d231e92a9d14eeb834f101340bc55a2",
      "0345280e01af4f588b3a60a1bb9e30c1",
      "b0f8761a267c4dceb02e8b9277ec412d",
      "bb602a4ffe5f476392a24059814a0af0",
      "05eff87c9d40464cb7aae89c16bde9ec",
      "8b31e8baa1a64a04a7194cae24ed66c9",
      "b9181de42ea2452094697ed9b89de194",
      "99a5d0eda2714009aff87cd25b14c5a8",
      "ac6e173efc344561a293f6711bcb762d",
      "a6efb3b6fd1a46b283765d5b313bda03",
      "613405a989a54f1aa2bbaefc135abfd1",
      "f4912adc34d9414dabb849521ba595fc",
      "be59051818854aa19119ec203a2bd467",
      "8a1695f4f932405589478baeccd2c75e",
      "c88a80da13874605988c66ed14b33426",
      "991dc6422bcd461d9cecb470416912be",
      "d1a48f7684724f60bf8422b5da5cdb0e",
      "5d249374b8394ee0bbb5687bc9854e12",
      "67222b65e4b64ccb9b23adf98c393c9c",
      "79986cb8b2984f7fa9c42b704653a8f2",
      "3356180afd7948c6b0ce672c2212341c",
      "1a1d5c4a908648aab548d979157a484b",
      "37b81ffb2c3b46a9bb79413505ee35a0",
      "d013d99c114c4aca82f6ffc1f2168096",
      "f5c9aeccd9c54c7e97ba3b69e9e40e90",
      "351c6841a356490eb7d6cb3420e59692",
      "87c6dedf0e904f668ed615a2170840bf",
      "6b4372d729b741d38a5f2aaa80fdabb6",
      "055a5c758ca048b6a1c7f63f1c165e20",
      "f271763a132641ad807b92d73feef86a",
      "303513fc154545829f7f3aef19f64edd",
      "ef922fc7c40848df94752a6f86a51f03",
      "e04b722696fe4190ad8627f92549af6e",
      "ea8998b3004442c1908463434e21d567",
      "d331d5ff8fbb48649f2cb8b2cd8b4f26",
      "7549feb7987b4c38846349e787c22108",
      "804bc91c9ee74a47a28101e83a5a8993",
      "dc2b86811d944135b950447222feb094",
      "e417ccd6223b43a0b5e95b193c0e169f",
      "5de68af7768b49c1897c0d63b5dded35",
      "2eabb0c74227447da8aa75eebeaadfa3",
      "5272cb6fc9614f45ae16ea140de17121"
     ]
    },
    "id": "O3IB4aYUwDOU",
    "outputId": "dfaad745-4c70-4d48-cce1-75cc4102896c"
   },
   "outputs": [
    {
     "metadata": {
      "tags": null
     },
     "name": "stdout",
     "output_type": "stream",
     "text": [
      "\u001b[?25l   \u001b[90m━━━━━━━━━━━━━━━━━━━━━━━━━━━━━━━━━━━━━━━━\u001b[0m \u001b[32m0.0/84.1 kB\u001b[0m \u001b[31m?\u001b[0m eta \u001b[36m-:--:--\u001b[0m\r",
      "\u001b[2K   \u001b[91m━━━━━━━━━━━━━━━━━━━━━━━━━━━━━━━━━━━━━━\u001b[0m\u001b[91m╸\u001b[0m\u001b[90m━\u001b[0m \u001b[32m81.9/84.1 kB\u001b[0m \u001b[31m3.1 MB/s\u001b[0m eta \u001b[36m0:00:01\u001b[0m\r",
      "\u001b[2K   \u001b[90m━━━━━━━━━━━━━━━━━━━━━━━━━━━━━━━━━━━━━━━━\u001b[0m \u001b[32m84.1/84.1 kB\u001b[0m \u001b[31m2.1 MB/s\u001b[0m eta \u001b[36m0:00:00\u001b[0m\n",
      "\u001b[?25hSetting up environment and downloading datasets...\n",
      "\n",
      "Downloading ICJ dataset...\n",
      "Dataset URL: https://www.kaggle.com/datasets/rishipjain/indian-court-judgment-summary-pair\n",
      "License(s): MIT\n",
      "indian-court-judgment-summary-pair.zip: Skipping, found more recently modified local copy (use --force to force download)\n",
      "\n",
      "Downloading CivilSum dataset...\n",
      "Dataset URL: https://www.kaggle.com/datasets/veerchheda/civilsum-indian-legal-document-summarisation\n",
      "License(s): CC-BY-NC-SA-4.0\n",
      "civilsum-indian-legal-document-summarisation.zip: Skipping, found more recently modified local copy (use --force to force download)\n",
      "\n",
      "Unzipping datasets...\n",
      "Archive:  /content/data/indian-court-judgment-summary-pair.zip\n",
      "  inflating: /content/data/icj_sum/pair_dataset.csv  \n",
      "Archive:  /content/data/civilsum-indian-legal-document-summarisation.zip\n",
      "  inflating: /content/data/civil_sum/test.csv  \n",
      "  inflating: /content/data/civil_sum/train.csv  \n",
      "  inflating: /content/data/civil_sum/valid.csv  \n",
      "\n",
      "Loading and preparing datasets...\n",
      "\n",
      "Initializing tokenizer and model...\n"
     ]
    },
    {
     "metadata": {
      "tags": null
     },
     "name": "stderr",
     "output_type": "stream",
     "text": [
      "/usr/local/lib/python3.12/dist-packages/huggingface_hub/utils/_auth.py:94: UserWarning: \n",
      "The secret `HF_TOKEN` does not exist in your Colab secrets.\n",
      "To authenticate with the Hugging Face Hub, create a token in your settings tab (https://huggingface.co/settings/tokens), set it as secret in your Google Colab and restart your session.\n",
      "You will be able to reuse this secret in all of your notebooks.\n",
      "Please note that authentication is recommended but still optional to access public models or datasets.\n",
      "  warnings.warn(\n"
     ]
    },
    {
     "data": {
      "application/vnd.jupyter.widget-view+json": {
       "model_id": "fbc0ec7df02c43289a034886ab488ec8",
       "version_major": 2,
       "version_minor": 0
      },
      "text/plain": [
       "vocab.json: 0.00B [00:00, ?B/s]"
      ]
     },
     "metadata": {},
     "output_type": "display_data"
    },
    {
     "data": {
      "application/vnd.jupyter.widget-view+json": {
       "model_id": "6058ca5344234ead951cca3c5e3c7e27",
       "version_major": 2,
       "version_minor": 0
      },
      "text/plain": [
       "merges.txt: 0.00B [00:00, ?B/s]"
      ]
     },
     "metadata": {},
     "output_type": "display_data"
    },
    {
     "data": {
      "application/vnd.jupyter.widget-view+json": {
       "model_id": "eab225ca4c684a65b980abde2436dfd4",
       "version_major": 2,
       "version_minor": 0
      },
      "text/plain": [
       "tokenizer.json: 0.00B [00:00, ?B/s]"
      ]
     },
     "metadata": {},
     "output_type": "display_data"
    },
    {
     "data": {
      "application/vnd.jupyter.widget-view+json": {
       "model_id": "020908250b6a460a9f62393a50301aaf",
       "version_major": 2,
       "version_minor": 0
      },
      "text/plain": [
       "config.json: 0.00B [00:00, ?B/s]"
      ]
     },
     "metadata": {},
     "output_type": "display_data"
    },
    {
     "data": {
      "application/vnd.jupyter.widget-view+json": {
       "model_id": "261c1186e54144b7944b54387fa42f04",
       "version_major": 2,
       "version_minor": 0
      },
      "text/plain": [
       "model.safetensors:   0%|          | 0.00/558M [00:00<?, ?B/s]"
      ]
     },
     "metadata": {},
     "output_type": "display_data"
    },
    {
     "metadata": {
      "tags": null
     },
     "name": "stderr",
     "output_type": "stream",
     "text": [
      "The new embeddings will be initialized from a multivariate normal distribution that has old embeddings' mean and covariance. As described in this article: https://nlp.stanford.edu/~johnhew/vocab-expansion.html. To disable this, use `mean_resizing=False`\n"
     ]
    },
    {
     "data": {
      "application/vnd.jupyter.widget-view+json": {
       "model_id": "f0b5be3cdcd54a848b624ff2c8cc487a",
       "version_major": 2,
       "version_minor": 0
      },
      "text/plain": [
       "Map:   0%|          | 0/22367 [00:00<?, ? examples/s]"
      ]
     },
     "metadata": {},
     "output_type": "display_data"
    },
    {
     "data": {
      "application/vnd.jupyter.widget-view+json": {
       "model_id": "a6efb3b6fd1a46b283765d5b313bda03",
       "version_major": 2,
       "version_minor": 0
      },
      "text/plain": [
       "Map:   0%|          | 0/2796 [00:00<?, ? examples/s]"
      ]
     },
     "metadata": {},
     "output_type": "display_data"
    },
    {
     "data": {
      "application/vnd.jupyter.widget-view+json": {
       "model_id": "3356180afd7948c6b0ce672c2212341c",
       "version_major": 2,
       "version_minor": 0
      },
      "text/plain": [
       "Map:   0%|          | 0/2796 [00:00<?, ? examples/s]"
      ]
     },
     "metadata": {},
     "output_type": "display_data"
    },
    {
     "metadata": {
      "tags": null
     },
     "name": "stdout",
     "output_type": "stream",
     "text": [
      "\n",
      "Starting model training...\n"
     ]
    },
    {
     "metadata": {
      "tags": null
     },
     "name": "stderr",
     "output_type": "stream",
     "text": [
      "/tmp/ipython-input-3589944163.py:136: FutureWarning: `tokenizer` is deprecated and will be removed in version 5.0.0 for `Seq2SeqTrainer.__init__`. Use `processing_class` instead.\n",
      "  trainer = Seq2SeqTrainer(\n",
      "/usr/local/lib/python3.12/dist-packages/notebook/notebookapp.py:191: SyntaxWarning: invalid escape sequence '\\/'\n",
      "  | |_| | '_ \\/ _` / _` |  _/ -_)\n"
     ]
    },
    {
     "data": {
      "text/html": [
       "\n",
       "    <div>\n",
       "      \n",
       "      <progress value='11185' max='16776' style='width:300px; height:20px; vertical-align: middle;'></progress>\n",
       "      [11185/16776 58:08 < 29:03, 3.21 it/s, Epoch 2/3]\n",
       "    </div>\n",
       "    <table border=\"1\" class=\"dataframe\">\n",
       "  <thead>\n",
       " <tr style=\"text-align: left;\">\n",
       "      <th>Epoch</th>\n",
       "      <th>Training Loss</th>\n",
       "      <th>Validation Loss</th>\n",
       "    </tr>\n",
       "  </thead>\n",
       "  <tbody>\n",
       "    <tr>\n",
       "      <td>1</td>\n",
       "      <td>1.382200</td>\n",
       "      <td>1.269320</td>\n",
       "    </tr>\n",
       "  </tbody>\n",
       "</table><p>\n",
       "    <div>\n",
       "      \n",
       "      <progress value='134' max='699' style='width:300px; height:20px; vertical-align: middle;'></progress>\n",
       "      [134/699 00:09 < 00:38, 14.71 it/s]\n",
       "    </div>\n",
       "    "
      ],
      "text/plain": [
       "<IPython.core.display.HTML object>"
      ]
     },
     "metadata": {},
     "output_type": "display_data"
    },
    {
     "metadata": {
      "tags": null
     },
     "name": "stderr",
     "output_type": "stream",
     "text": [
      "/usr/local/lib/python3.12/dist-packages/transformers/modeling_utils.py:3922: UserWarning: Moving the following attributes in the config to the generation config: {'early_stopping': True, 'num_beams': 4, 'no_repeat_ngram_size': 3, 'forced_bos_token_id': 0}. You are seeing this warning because you've set generation parameters in the model config, as opposed to in the generation config.\n",
      "  warnings.warn(\n"
     ]
    },
    {
     "data": {
      "text/html": [
       "\n",
       "    <div>\n",
       "      \n",
       "      <progress value='16776' max='16776' style='width:300px; height:20px; vertical-align: middle;'></progress>\n",
       "      [16776/16776 1:26:38, Epoch 3/3]\n",
       "    </div>\n",
       "    <table border=\"1\" class=\"dataframe\">\n",
       "  <thead>\n",
       " <tr style=\"text-align: left;\">\n",
       "      <th>Epoch</th>\n",
       "      <th>Training Loss</th>\n",
       "      <th>Validation Loss</th>\n",
       "    </tr>\n",
       "  </thead>\n",
       "  <tbody>\n",
       "    <tr>\n",
       "      <td>1</td>\n",
       "      <td>1.382200</td>\n",
       "      <td>1.269320</td>\n",
       "    </tr>\n",
       "    <tr>\n",
       "      <td>2</td>\n",
       "      <td>1.245400</td>\n",
       "      <td>1.211419</td>\n",
       "    </tr>\n",
       "    <tr>\n",
       "      <td>3</td>\n",
       "      <td>1.157200</td>\n",
       "      <td>1.195492</td>\n",
       "    </tr>\n",
       "  </tbody>\n",
       "</table><p>"
      ],
      "text/plain": [
       "<IPython.core.display.HTML object>"
      ]
     },
     "metadata": {},
     "output_type": "display_data"
    },
    {
     "name": "stdout",
     "output_type": "stream",
     "text": [
      "\n",
      "*** Starting Final Evaluation on Test Set ***\n"
     ]
    },
    {
     "data": {
      "text/html": [],
      "text/plain": [
       "<IPython.core.display.HTML object>"
      ]
     },
     "metadata": {},
     "output_type": "display_data"
    },
    {
     "name": "stderr",
     "output_type": "stream",
     "text": [
      "Trainer.tokenizer is now deprecated. You should use Trainer.processing_class instead.\n",
      "Trainer.tokenizer is now deprecated. You should use Trainer.processing_class instead.\n"
     ]
    },
    {
     "data": {
      "application/vnd.jupyter.widget-view+json": {
       "model_id": "ef922fc7c40848df94752a6f86a51f03",
       "version_major": 2,
       "version_minor": 0
      },
      "text/plain": [
       "Downloading builder script: 0.00B [00:00, ?B/s]"
      ]
     },
     "metadata": {},
     "output_type": "display_data"
    },
    {
     "name": "stdout",
     "output_type": "stream",
     "text": [
      "ROUGE scores on the test set:\n",
      "{'rouge1': np.float64(0.15162185421551366), 'rouge2': np.float64(0.09012262033690453), 'rougeL': np.float64(0.13454007222615938), 'rougeLsum': np.float64(0.1346190058771759)}\n"
     ]
    }
   ],
   "source": [
    "# UPDATE THIS CODE ONLY VERSION\n",
    "import pandas as pd\n",
    "from datasets import Dataset\n",
    "from transformers import BartTokenizer, BartForConditionalGeneration, Seq2SeqTrainer, Seq2SeqTrainingArguments\n",
    "from sklearn.model_selection import train_test_split\n",
    "import os\n",
    "import torch\n",
    "!pip install -q evaluate\n",
    "from evaluate import load\n",
    "\n",
    "# -------------------------\n",
    "# Step 1: Download and Unzip Datasets\n",
    "# -------------------------\n",
    "print(\"Setting up environment and downloading datasets...\")\n",
    "!pip install -q kaggle\n",
    "!pip install -q evaluate\n",
    "!pip install -q bert-score\n",
    "DATA_DIR = \"/content/data\"\n",
    "os.makedirs(DATA_DIR, exist_ok=True)\n",
    "os.makedirs(os.path.join(DATA_DIR, 'icj_sum'), exist_ok=True)\n",
    "os.makedirs(os.path.join(DATA_DIR, 'civil_sum'), exist_ok=True)\n",
    "\n",
    "# Define the correct Kaggle slugs\n",
    "ICJ_SUM_SLUG = \"rishipjain/indian-court-judgment-summary-pair\"\n",
    "CIVIL_SUM_SLUG = \"veerchheda/civilsum-indian-legal-document-summarisation\"\n",
    "\n",
    "# Download both datasets\n",
    "print(\"\\nDownloading ICJ dataset...\")\n",
    "!kaggle datasets download -d {ICJ_SUM_SLUG} -p {DATA_DIR}\n",
    "print(\"\\nDownloading CivilSum dataset...\")\n",
    "!kaggle datasets download -d {CIVIL_SUM_SLUG} -p {DATA_DIR}\n",
    "\n",
    "# Unzip to specific directories with correct file names\n",
    "print(\"\\nUnzipping datasets...\")\n",
    "!unzip -o \"/content/data/indian-court-judgment-summary-pair.zip\" -d \"/content/data/icj_sum\"\n",
    "!unzip -o \"/content/data/civilsum-indian-legal-document-summarisation.zip\" -d \"/content/data/civil_sum\"\n",
    "\n",
    "# -------------------------\n",
    "# Step 2: Load and Prepare Data\n",
    "# -------------------------\n",
    "print(\"\\nLoading and preparing datasets...\")\n",
    "icj_df = pd.read_csv(\"/content/data/icj_sum/pair_dataset.csv\")\n",
    "civil_sum_df = pd.read_csv(\"/content/data/civil_sum/train.csv\")\n",
    "\n",
    "# Fix ICJ dataset and add a 'domain' column\n",
    "if \"forum\" not in icj_df.columns:\n",
    "    icj_df[\"forum\"] = \"SC\"\n",
    "if \"case_type\" not in icj_df.columns:\n",
    "    def extract_case_type(text):\n",
    "        text = str(text).lower()\n",
    "        if \"appeal\" in text: return \"Appeal\"\n",
    "        elif \"application\" in text: return \"Application\"\n",
    "        elif \"petition\" in text: return \"Petition\"\n",
    "        elif \"writ\" in text: return \"Writ\"\n",
    "        elif \"civil\" in text: return \"Civil\"\n",
    "        elif \"criminal\" in text: return \"Criminal\"\n",
    "        else: return \"General\"\n",
    "    icj_df[\"case_type\"] = icj_df[\"Judgment\"].apply(extract_case_type)\n",
    "icj_df[\"domain\"] = \"icj\"\n",
    "\n",
    "# Fix CivilSum dataset and add 'forum' and 'domain' columns\n",
    "civil_sum_df[\"forum\"] = \"CC\"\n",
    "civil_sum_df[\"case_type\"] = \"Civil\"\n",
    "civil_sum_df[\"domain\"] = \"civilsum\"\n",
    "\n",
    "# Rename columns for consistency\n",
    "icj_df = icj_df.rename(columns={'Judgment': 'document', 'Summary': 'summary'})\n",
    "civil_sum_df = civil_sum_df.rename(columns={'text': 'document', 'summary': 'summary'})\n",
    "\n",
    "# Combine the datasets\n",
    "combined_df = pd.concat([icj_df[['document', 'summary', 'forum', 'case_type', 'domain']],\n",
    "                         civil_sum_df[['document', 'summary', 'forum', 'case_type', 'domain']]], ignore_index=True)\n",
    "\n",
    "# Handle missing values\n",
    "combined_df['summary'] = combined_df['summary'].fillna('')\n",
    "combined_df['document'] = combined_df['document'].fillna('')\n",
    "\n",
    "# Create input text with control codes\n",
    "combined_df[\"input_text\"] = combined_df.apply(lambda r: f\"<{r['domain']}> <{r['forum']}> <{r['case_type']}> {r['document']}\", axis=1)\n",
    "\n",
    "# Split the combined dataset into train, valid, and test\n",
    "train_df, temp_df = train_test_split(combined_df, test_size=0.2, random_state=42)\n",
    "valid_df, test_df = train_test_split(temp_df, test_size=0.5, random_state=42)\n",
    "\n",
    "# Convert to HuggingFace Dataset\n",
    "train_dataset = Dataset.from_pandas(train_df.rename(columns={\"summary\": \"summary\"})[[\"input_text\", \"summary\"]])\n",
    "valid_dataset = Dataset.from_pandas(valid_df.rename(columns={\"summary\": \"summary\"})[[\"input_text\", \"summary\"]])\n",
    "test_dataset = Dataset.from_pandas(test_df.rename(columns={\"summary\": \"summary\"})[[\"input_text\", \"summary\"]])\n",
    "\n",
    "# -------------------------\n",
    "# Step 3: Tokenizer, Model, and Preprocessing\n",
    "# -------------------------\n",
    "print(\"\\nInitializing tokenizer and model...\")\n",
    "model_name = \"facebook/bart-base\"\n",
    "tokenizer = BartTokenizer.from_pretrained(model_name)\n",
    "\n",
    "special_tokens = {\n",
    "    \"additional_special_tokens\": [\n",
    "        \"<icj>\", \"<civilsum>\", \"<SC>\", \"<CC>\", \"<HC>\", \"<DC>\", \"<Civil>\",\n",
    "        \"<Bail>\", \"<Service>\", \"<Tax>\", \"<Writ>\",\n",
    "        \"<Appeal>\", \"<Application>\", \"<Petition>\",\n",
    "        \"<Criminal>\", \"<General>\"\n",
    "    ]\n",
    "}\n",
    "tokenizer.add_special_tokens(special_tokens)\n",
    "model = BartForConditionalGeneration.from_pretrained(model_name)\n",
    "model.resize_token_embeddings(len(tokenizer))\n",
    "\n",
    "def preprocess(batch):\n",
    "    model_inputs = tokenizer(batch[\"input_text\"], max_length=1024, truncation=True, padding=\"max_length\")\n",
    "    labels = tokenizer(text_target=batch[\"summary\"], max_length=256, truncation=True, padding=\"max_length\")\n",
    "    model_inputs[\"labels\"] = labels[\"input_ids\"]\n",
    "    return model_inputs\n",
    "\n",
    "train_tokenized = train_dataset.map(preprocess, batched=True, remove_columns=train_dataset.column_names)\n",
    "valid_tokenized = valid_dataset.map(preprocess, batched=True, remove_columns=valid_dataset.column_names)\n",
    "test_tokenized = test_dataset.map(preprocess, batched=True, remove_columns=test_dataset.column_names)\n",
    "\n",
    "# -------------------------\n",
    "# Step 4: Training\n",
    "# -------------------------\n",
    "print(\"\\nStarting model training...\")\n",
    "training_args = Seq2SeqTrainingArguments(\n",
    "    output_dir=\"./forum_case_results\",\n",
    "    eval_strategy=\"epoch\",\n",
    "    learning_rate=5e-5,\n",
    "    per_device_train_batch_size=4,\n",
    "    per_device_eval_batch_size=4,\n",
    "    num_train_epochs=3,\n",
    "    weight_decay=0.01,\n",
    "    save_total_limit=2,\n",
    "    predict_with_generate=True,\n",
    "    fp16=True\n",
    ")\n",
    "\n",
    "trainer = Seq2SeqTrainer(\n",
    "    model=model,\n",
    "    args=training_args,\n",
    "    train_dataset=train_tokenized,\n",
    "    eval_dataset=valid_tokenized,\n",
    "    tokenizer=tokenizer\n",
    ")\n",
    "\n",
    "trainer.train()\n",
    "\n",
    "# -------------------------\n",
    "# Step 5: Final Evaluation\n",
    "# -------------------------\n",
    "print(\"\\n*** Starting Final Evaluation on Test Set ***\")\n",
    "predictions = trainer.predict(test_tokenized)\n",
    "decoded_preds = trainer.tokenizer.batch_decode(predictions.predictions, skip_special_tokens=True)\n",
    "decoded_labels = trainer.tokenizer.batch_decode(predictions.label_ids, skip_special_tokens=True)\n",
    "\n",
    "rouge = load(\"rouge\")\n",
    "rouge_results = rouge.compute(\n",
    "    predictions=decoded_preds,\n",
    "    references=decoded_labels,\n",
    "    use_stemmer=True\n",
    ")\n",
    "print(\"ROUGE scores on the test set:\")\n",
    "print(rouge_results)\n",
    "# Convert the relevant ROUGE scores to a pandas DataFrame\n",
    "rouge_df = pd.DataFrame({\n",
    "    'Metric': ['ROUGE-1', 'ROUGE-2', 'ROUGE-L'],\n",
    "    'Score': [\n",
    "        rouge_results['rouge1'],\n",
    "        rouge_results['rouge2'],\n",
    "        rouge_results['rougeL']\n",
    "    ]\n",
    "})\n",
    "\n"
   ]
  },
  {
   "cell_type": "code",
   "execution_count": 19,
   "metadata": {
    "colab": {
     "base_uri": "https://localhost:8080/",
     "height": 607
    },
    "id": "yLI2sgZcSzBN",
    "outputId": "75f7383f-ef6d-4d96-87e5-36d06e3355ba"
   },
   "outputs": [
    {
     "data": {
      "image/png": "[encoded data removed]",
      "text/plain": [
       "<Figure size 800x600 with 1 Axes>"
      ]
     },
     "metadata": {},
     "output_type": "display_data"
    }
   ],
   "source": [
    "import pandas as pd\n",
    "import matplotlib.pyplot as plt\n",
    "import numpy as np\n",
    "\n",
    "# Convert the relevant ROUGE scores to a pandas DataFrame\n",
    "rouge_df = pd.DataFrame({\n",
    "    'Metric': ['ROUGE-1', 'ROUGE-2', 'ROUGE-L', 'ROUGE-Lsum'],\n",
    "    'Score': [\n",
    "        rouge_results['rouge1'],\n",
    "        rouge_results['rouge2'],\n",
    "        rouge_results['rougeL'],\n",
    "        rouge_results['rougeLsum']\n",
    "    ]\n",
    "})\n",
    "\n",
    "# Create the bar chart\n",
    "plt.style.use('ggplot')\n",
    "fig, ax = plt.subplots(figsize=(8, 6))\n",
    "\n",
    "bars = ax.bar(rouge_df['Metric'], rouge_df['Score'], color=['#3498db', '#e74c3c', '#2ecc71', '#9b59b6'])\n",
    "\n",
    "# Add labels and title\n",
    "ax.set_title('ROUGE Scores on Test Set', fontsize=16)\n",
    "ax.set_xlabel('ROUGE Metric', fontsize=12)\n",
    "ax.set_ylabel('Score', fontsize=12)\n",
    "\n",
    "# Adjust the y-axis limits to a smaller range to make the bars look bigger\n",
    "min_score = rouge_df['Score'].min()\n",
    "max_score = rouge_df['Score'].max()\n",
    "padding = (max_score - min_score) * 0.1\n",
    "ax.set_ylim(min_score - padding, max_score + padding)\n",
    "\n",
    "# Add text labels on top of the bars\n",
    "for bar in bars:\n",
    "    yval = bar.get_height()\n",
    "    ax.text(bar.get_x() + bar.get_width()/2, yval + 0.005, round(yval, 4), ha='center', va='bottom', fontsize=10)\n",
    "\n",
    "# Save the plot\n",
    "plt.tight_layout()\n",
    "plt.savefig('rouge_scores_bar_chart_with_lsum.png')"
   ]
  }
 ],
 "metadata": {
  "accelerator": "GPU",
  "colab": {
   "gpuType": "T4",
   "provenance": []
  },
  "kernelspec": {
   "display_name": "Python 3",
   "name": "python3"
  },
  "language_info": {
   "name": "python"
  }
 },
 "nbformat": 4,
 "nbformat_minor": 0
}
